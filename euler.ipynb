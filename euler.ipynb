{
 "cells": [
  {
   "cell_type": "code",
   "execution_count": 0,
   "metadata": {
    "collapsed": false
   },
   "outputs": [
   ],
   "source": [
    "# EDO dx/dy = e**x condiciones iniciales y(0) = 1\n",
    "# El valor analítico es e**x\n",
    "import numpy as np\n",
    "import math\n",
    "import matplotlib.pyplot as plt\n",
    "n = 40\n",
    "a = 0\n",
    "b = 5  # Este es propuesto\n",
    "h = abs(a-b)/(n -1)\n",
    "x = np.linspace(a,b,n)\n",
    "y0 = 1\n",
    "\n",
    "def fprima(x,y):\n",
    "    return math.exp(x)\n",
    "\n",
    "def euler(h,x,y0):\n",
    "    y = []\n",
    "    y.append(y0)\n",
    "    for i in range(1,len(x)):\n",
    "        y.append(y[i-1] + h*fprima(x[i-1],y[i-1]))\n",
    "    return y\n",
    "\n",
    "y = euler(h,x,y0)\n",
    "\n",
    "plt.plot(x,y,'b')\n",
    "plt.plot(x,[math.exp(xi) for xi in x],'r')"
   ]
  },
  {
   "cell_type": "code",
   "execution_count": 0,
   "metadata": {
    "collapsed": false
   },
   "outputs": [
   ],
   "source": [
   ]
  }
 ],
 "metadata": {
  "kernelspec": {
   "display_name": "Python 3 (Anaconda 5)",
   "language": "python",
   "name": "anaconda5"
  }
 },
 "nbformat": 4,
 "nbformat_minor": 0
}